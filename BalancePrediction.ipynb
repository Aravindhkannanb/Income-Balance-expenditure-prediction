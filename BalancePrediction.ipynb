{
  "nbformat": 4,
  "nbformat_minor": 0,
  "metadata": {
    "colab": {
      "provenance": [],
      "authorship_tag": "ABX9TyM5N6TCUJGpsLgc61lseJOG",
      "include_colab_link": true
    },
    "kernelspec": {
      "name": "python3",
      "display_name": "Python 3"
    },
    "language_info": {
      "name": "python"
    }
  },
  "cells": [
    {
      "cell_type": "markdown",
      "metadata": {
        "id": "view-in-github",
        "colab_type": "text"
      },
      "source": [
        "<a href=\"https://colab.research.google.com/github/Aravindhkannanb/Income-Balance-expenditure-prediction/blob/main/BalancePrediction.ipynb\" target=\"_parent\"><img src=\"https://colab.research.google.com/assets/colab-badge.svg\" alt=\"Open In Colab\"/></a>"
      ]
    },
    {
      "cell_type": "code",
      "execution_count": null,
      "metadata": {
        "id": "hCCyiqOydU01"
      },
      "outputs": [],
      "source": [
        "import pandas as pd\n",
        "df=pd.read_csv(\"/content/sample_data/Aravindh.csv\")\n",
        "df.head()"
      ]
    },
    {
      "cell_type": "code",
      "source": [
        "import pandas as pd\n",
        "import matplotlib.pyplot as plt\n",
        "%matplotlib inline\n",
        "import seaborn as sns\n",
        "import numpy as np\n",
        "from sklearn.svm import SVC\n",
        "from sklearn.model_selection import train_test_split\n",
        "from sklearn.preprocessing import StandardScaler\n",
        "from sklearn.linear_model import LinearRegression\n",
        "from sklearn import metrics\n",
        "from sklearn.metrics import classification_report\n"
      ],
      "metadata": {
        "id": "3F5v0vv3KDHv"
      },
      "execution_count": 2,
      "outputs": []
    },
    {
      "cell_type": "code",
      "source": [
        "df.head()"
      ],
      "metadata": {
        "id": "Ty34_36IPJ-K"
      },
      "execution_count": null,
      "outputs": []
    },
    {
      "cell_type": "code",
      "source": [
        "df.info()"
      ],
      "metadata": {
        "id": "eJIkfQeQPUjV"
      },
      "execution_count": null,
      "outputs": []
    },
    {
      "cell_type": "code",
      "source": [
        "df.isnull().sum()"
      ],
      "metadata": {
        "id": "82cyDa_HPZ6F"
      },
      "execution_count": null,
      "outputs": []
    },
    {
      "cell_type": "code",
      "source": [
        "df.head()"
      ],
      "metadata": {
        "id": "JHY_2zrwPfG5"
      },
      "execution_count": null,
      "outputs": []
    },
    {
      "cell_type": "code",
      "source": [
        "df.describe()"
      ],
      "metadata": {
        "id": "ESmPTclLRGBA"
      },
      "execution_count": null,
      "outputs": []
    },
    {
      "cell_type": "code",
      "source": [
        "df.columns"
      ],
      "metadata": {
        "id": "jVP80wVlRX6x"
      },
      "execution_count": null,
      "outputs": []
    },
    {
      "cell_type": "code",
      "source": [
        "print(df[\"Income\"].value_counts())"
      ],
      "metadata": {
        "id": "FGbHS3YORhAk"
      },
      "execution_count": null,
      "outputs": []
    },
    {
      "cell_type": "code",
      "source": [
        "txn=df[\"Txn Date\"]\n",
        "value=df[\"Value Date\"]\n",
        "balance=df[\"Balance\"]\n",
        "credit=df[\"CR/DR\"]\n",
        "\n",
        "credit_data=df.groupby(\"CR/DR\").get_group(\"Cr.\")\n",
        "debit_data=df.groupby(\"CR/DR\").get_group(\"Dr.\")"
      ],
      "metadata": {
        "id": "zVrAFvO1Syvi"
      },
      "execution_count": 3,
      "outputs": []
    },
    {
      "cell_type": "code",
      "source": [
        "df.columns"
      ],
      "metadata": {
        "colab": {
          "base_uri": "https://localhost:8080/"
        },
        "id": "lTJVjUEKbpHY",
        "outputId": "a21ab1ee-7f8f-4720-a3ab-23d7e3d811c3"
      },
      "execution_count": null,
      "outputs": [
        {
          "output_type": "execute_result",
          "data": {
            "text/plain": [
              "Index(['Srl', 'Txn Date', 'Value Date', 'Description', 'CR/DR', 'CCY',\n",
              "       'Amount ', 'Balance', 'Month', 'Income '],\n",
              "      dtype='object')"
            ]
          },
          "metadata": {},
          "execution_count": 6
        }
      ]
    },
    {
      "cell_type": "code",
      "source": [
        "df.replace({\"Month\":{\"January\":1,\"February\":2,\"March\":3,\"April\":4,\"May\":5,\"June\":6,\"July\":7,\"August\":8,\"September\":9,\"October\":10,\"November\":11,\"December\":12}},inplace=True)\n",
        "df.head()"
      ],
      "metadata": {
        "id": "GAnf7x22b384",
        "colab": {
          "base_uri": "https://localhost:8080/",
          "height": 548
        },
        "outputId": "823216d6-81d6-49a4-ecb8-a43c228585bc"
      },
      "execution_count": 4,
      "outputs": [
        {
          "output_type": "execute_result",
          "data": {
            "text/plain": [
              "   Srl          Txn Date  Value Date  \\\n",
              "0    1  11-01-2023 01:30  11-01-2023   \n",
              "1    2  11-01-2023 01:18  11-01-2023   \n",
              "2    3  10-01-2023 08:23  10-01-2023   \n",
              "3    4  10-01-2023 07:41  10-01-2023   \n",
              "4    5  10-01-2023 11:25  10-01-2023   \n",
              "\n",
              "                                 Description CR/DR  CCY Amount   Balance  \\\n",
              "0               UPI/301168319319/EURONETGPAY   Dr.  INR     239  2017.08   \n",
              "1  UPI/301168022227/KANNAN S/O DAKSHNAMURTHY   Cr.  INR     150  2256.08   \n",
              "2              UPI/301056895580/VALARMATHI P   Dr.  INR     390  2106.08   \n",
              "3         UPI/301055344242/ARAVINDH KANNA  B   Dr.  INR     238  2496.08   \n",
              "4       UPI/301038772318/Mr Gowsigan Murugan   Cr.  INR      20  2734.08   \n",
              "\n",
              "   Month Income   \n",
              "0      1     239  \n",
              "1      1     150  \n",
              "2      1     390  \n",
              "3      1     238  \n",
              "4      1      20  "
            ],
            "text/html": [
              "\n",
              "  <div id=\"df-663f4f68-d3fd-4b4e-a14d-58cffd71023a\">\n",
              "    <div class=\"colab-df-container\">\n",
              "      <div>\n",
              "<style scoped>\n",
              "    .dataframe tbody tr th:only-of-type {\n",
              "        vertical-align: middle;\n",
              "    }\n",
              "\n",
              "    .dataframe tbody tr th {\n",
              "        vertical-align: top;\n",
              "    }\n",
              "\n",
              "    .dataframe thead th {\n",
              "        text-align: right;\n",
              "    }\n",
              "</style>\n",
              "<table border=\"1\" class=\"dataframe\">\n",
              "  <thead>\n",
              "    <tr style=\"text-align: right;\">\n",
              "      <th></th>\n",
              "      <th>Srl</th>\n",
              "      <th>Txn Date</th>\n",
              "      <th>Value Date</th>\n",
              "      <th>Description</th>\n",
              "      <th>CR/DR</th>\n",
              "      <th>CCY</th>\n",
              "      <th>Amount</th>\n",
              "      <th>Balance</th>\n",
              "      <th>Month</th>\n",
              "      <th>Income</th>\n",
              "    </tr>\n",
              "  </thead>\n",
              "  <tbody>\n",
              "    <tr>\n",
              "      <th>0</th>\n",
              "      <td>1</td>\n",
              "      <td>11-01-2023 01:30</td>\n",
              "      <td>11-01-2023</td>\n",
              "      <td>UPI/301168319319/EURONETGPAY</td>\n",
              "      <td>Dr.</td>\n",
              "      <td>INR</td>\n",
              "      <td>239</td>\n",
              "      <td>2017.08</td>\n",
              "      <td>1</td>\n",
              "      <td>239</td>\n",
              "    </tr>\n",
              "    <tr>\n",
              "      <th>1</th>\n",
              "      <td>2</td>\n",
              "      <td>11-01-2023 01:18</td>\n",
              "      <td>11-01-2023</td>\n",
              "      <td>UPI/301168022227/KANNAN S/O DAKSHNAMURTHY</td>\n",
              "      <td>Cr.</td>\n",
              "      <td>INR</td>\n",
              "      <td>150</td>\n",
              "      <td>2256.08</td>\n",
              "      <td>1</td>\n",
              "      <td>150</td>\n",
              "    </tr>\n",
              "    <tr>\n",
              "      <th>2</th>\n",
              "      <td>3</td>\n",
              "      <td>10-01-2023 08:23</td>\n",
              "      <td>10-01-2023</td>\n",
              "      <td>UPI/301056895580/VALARMATHI P</td>\n",
              "      <td>Dr.</td>\n",
              "      <td>INR</td>\n",
              "      <td>390</td>\n",
              "      <td>2106.08</td>\n",
              "      <td>1</td>\n",
              "      <td>390</td>\n",
              "    </tr>\n",
              "    <tr>\n",
              "      <th>3</th>\n",
              "      <td>4</td>\n",
              "      <td>10-01-2023 07:41</td>\n",
              "      <td>10-01-2023</td>\n",
              "      <td>UPI/301055344242/ARAVINDH KANNA  B</td>\n",
              "      <td>Dr.</td>\n",
              "      <td>INR</td>\n",
              "      <td>238</td>\n",
              "      <td>2496.08</td>\n",
              "      <td>1</td>\n",
              "      <td>238</td>\n",
              "    </tr>\n",
              "    <tr>\n",
              "      <th>4</th>\n",
              "      <td>5</td>\n",
              "      <td>10-01-2023 11:25</td>\n",
              "      <td>10-01-2023</td>\n",
              "      <td>UPI/301038772318/Mr Gowsigan Murugan</td>\n",
              "      <td>Cr.</td>\n",
              "      <td>INR</td>\n",
              "      <td>20</td>\n",
              "      <td>2734.08</td>\n",
              "      <td>1</td>\n",
              "      <td>20</td>\n",
              "    </tr>\n",
              "  </tbody>\n",
              "</table>\n",
              "</div>\n",
              "      <button class=\"colab-df-convert\" onclick=\"convertToInteractive('df-663f4f68-d3fd-4b4e-a14d-58cffd71023a')\"\n",
              "              title=\"Convert this dataframe to an interactive table.\"\n",
              "              style=\"display:none;\">\n",
              "        \n",
              "  <svg xmlns=\"http://www.w3.org/2000/svg\" height=\"24px\"viewBox=\"0 0 24 24\"\n",
              "       width=\"24px\">\n",
              "    <path d=\"M0 0h24v24H0V0z\" fill=\"none\"/>\n",
              "    <path d=\"M18.56 5.44l.94 2.06.94-2.06 2.06-.94-2.06-.94-.94-2.06-.94 2.06-2.06.94zm-11 1L8.5 8.5l.94-2.06 2.06-.94-2.06-.94L8.5 2.5l-.94 2.06-2.06.94zm10 10l.94 2.06.94-2.06 2.06-.94-2.06-.94-.94-2.06-.94 2.06-2.06.94z\"/><path d=\"M17.41 7.96l-1.37-1.37c-.4-.4-.92-.59-1.43-.59-.52 0-1.04.2-1.43.59L10.3 9.45l-7.72 7.72c-.78.78-.78 2.05 0 2.83L4 21.41c.39.39.9.59 1.41.59.51 0 1.02-.2 1.41-.59l7.78-7.78 2.81-2.81c.8-.78.8-2.07 0-2.86zM5.41 20L4 18.59l7.72-7.72 1.47 1.35L5.41 20z\"/>\n",
              "  </svg>\n",
              "      </button>\n",
              "      \n",
              "  <style>\n",
              "    .colab-df-container {\n",
              "      display:flex;\n",
              "      flex-wrap:wrap;\n",
              "      gap: 12px;\n",
              "    }\n",
              "\n",
              "    .colab-df-convert {\n",
              "      background-color: #E8F0FE;\n",
              "      border: none;\n",
              "      border-radius: 50%;\n",
              "      cursor: pointer;\n",
              "      display: none;\n",
              "      fill: #1967D2;\n",
              "      height: 32px;\n",
              "      padding: 0 0 0 0;\n",
              "      width: 32px;\n",
              "    }\n",
              "\n",
              "    .colab-df-convert:hover {\n",
              "      background-color: #E2EBFA;\n",
              "      box-shadow: 0px 1px 2px rgba(60, 64, 67, 0.3), 0px 1px 3px 1px rgba(60, 64, 67, 0.15);\n",
              "      fill: #174EA6;\n",
              "    }\n",
              "\n",
              "    [theme=dark] .colab-df-convert {\n",
              "      background-color: #3B4455;\n",
              "      fill: #D2E3FC;\n",
              "    }\n",
              "\n",
              "    [theme=dark] .colab-df-convert:hover {\n",
              "      background-color: #434B5C;\n",
              "      box-shadow: 0px 1px 3px 1px rgba(0, 0, 0, 0.15);\n",
              "      filter: drop-shadow(0px 1px 2px rgba(0, 0, 0, 0.3));\n",
              "      fill: #FFFFFF;\n",
              "    }\n",
              "  </style>\n",
              "\n",
              "      <script>\n",
              "        const buttonEl =\n",
              "          document.querySelector('#df-663f4f68-d3fd-4b4e-a14d-58cffd71023a button.colab-df-convert');\n",
              "        buttonEl.style.display =\n",
              "          google.colab.kernel.accessAllowed ? 'block' : 'none';\n",
              "\n",
              "        async function convertToInteractive(key) {\n",
              "          const element = document.querySelector('#df-663f4f68-d3fd-4b4e-a14d-58cffd71023a');\n",
              "          const dataTable =\n",
              "            await google.colab.kernel.invokeFunction('convertToInteractive',\n",
              "                                                     [key], {});\n",
              "          if (!dataTable) return;\n",
              "\n",
              "          const docLinkHtml = 'Like what you see? Visit the ' +\n",
              "            '<a target=\"_blank\" href=https://colab.research.google.com/notebooks/data_table.ipynb>data table notebook</a>'\n",
              "            + ' to learn more about interactive tables.';\n",
              "          element.innerHTML = '';\n",
              "          dataTable['output_type'] = 'display_data';\n",
              "          await google.colab.output.renderOutput(dataTable, element);\n",
              "          const docLink = document.createElement('div');\n",
              "          docLink.innerHTML = docLinkHtml;\n",
              "          element.appendChild(docLink);\n",
              "        }\n",
              "      </script>\n",
              "    </div>\n",
              "  </div>\n",
              "  "
            ]
          },
          "metadata": {},
          "execution_count": 4
        }
      ]
    },
    {
      "cell_type": "code",
      "source": [
        "month=df[\"Month\"]"
      ],
      "metadata": {
        "id": "_h_Z9WLxenfS"
      },
      "execution_count": 5,
      "outputs": []
    },
    {
      "cell_type": "code",
      "source": [
        "x_train,x_test,y_train,y_test=train_test_split(month,balance,test_size=0.2,random_state=100)"
      ],
      "metadata": {
        "id": "WjPX-pKJdV92"
      },
      "execution_count": 6,
      "outputs": []
    },
    {
      "cell_type": "code",
      "source": [
        "print(\"x_train\",x_train)\n"
      ],
      "metadata": {
        "id": "90BG8cEvfIH0"
      },
      "execution_count": null,
      "outputs": []
    },
    {
      "cell_type": "code",
      "source": [
        "scaler=StandardScaler()\n",
        "X_train=scaler.fit_transform(x_train.values.reshape(-1,1))\n",
        "Y_train=scaler.fit_transform(y_train.values)"
      ],
      "metadata": {
        "id": "5MDc6tydgJ5p"
      },
      "execution_count": null,
      "outputs": []
    },
    {
      "cell_type": "code",
      "source": [
        "model=LinearRegression()\n",
        "model.fit(x_train.values.reshape(-1,1),y_train.values)"
      ],
      "metadata": {
        "id": "WXNPffLjflDE",
        "colab": {
          "base_uri": "https://localhost:8080/"
        },
        "outputId": "e16bf975-ad92-48f1-f7c0-6b3f635cd433"
      },
      "execution_count": 7,
      "outputs": [
        {
          "output_type": "execute_result",
          "data": {
            "text/plain": [
              "LinearRegression()"
            ]
          },
          "metadata": {},
          "execution_count": 7
        }
      ]
    },
    {
      "cell_type": "code",
      "source": [
        "print(y_train)"
      ],
      "metadata": {
        "id": "pmswAj-ByHP_"
      },
      "execution_count": null,
      "outputs": []
    },
    {
      "cell_type": "code",
      "source": [
        "prediction=model.predict(x_test.values.reshape(-1,1))\n",
        "print(prediction)"
      ],
      "metadata": {
        "id": "WOv49d5nwlom"
      },
      "execution_count": null,
      "outputs": []
    },
    {
      "cell_type": "code",
      "source": [
        "month=int(input(\"Enter month to predict the account balance of month:\"))\n",
        "model.predict([[month]])"
      ],
      "metadata": {
        "id": "8RBHS-feyDcK",
        "colab": {
          "base_uri": "https://localhost:8080/"
        },
        "outputId": "30d00ace-f440-4910-e0bd-3693a5d7f2ca"
      },
      "execution_count": 12,
      "outputs": [
        {
          "name": "stdout",
          "output_type": "stream",
          "text": [
            "Enter month to predict the account balance of month:12\n"
          ]
        },
        {
          "output_type": "execute_result",
          "data": {
            "text/plain": [
              "array([2314.95001128])"
            ]
          },
          "metadata": {},
          "execution_count": 12
        }
      ]
    },
    {
      "cell_type": "code",
      "source": [],
      "metadata": {
        "id": "Whu29f9Q-hmZ"
      },
      "execution_count": null,
      "outputs": []
    }
  ]
}